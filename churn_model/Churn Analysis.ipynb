{
 "cells": [
  {
   "cell_type": "markdown",
   "metadata": {},
   "source": [
    "# Churn Analysis\n",
    "[Medium link](https://medium.com/@pushkarmandot/build-your-first-deep-learning-neural-network-model-using-keras-in-python-a90b5864116d)\n",
    "## Business Problem:\n",
    "Our basic aim is to predict customer churn for a certain bank i.e. which customer is going to leave this bank service. Dataset is small(for learning purpose) and contains 10000 rows with 14 columns. I am not explaining data in detail as dataset is self explanatory"
   ]
  },
  {
   "cell_type": "code",
   "execution_count": 2,
   "metadata": {},
   "outputs": [],
   "source": [
    "import numpy as np\n",
    "#import matplotlib.pyplot as plt\n",
    "import pandas as pd"
   ]
  },
  {
   "cell_type": "code",
   "execution_count": 3,
   "metadata": {},
   "outputs": [],
   "source": [
    "# Importing the dataset\n",
    "dataset = pd.read_csv('Churn_Modelling.csv')"
   ]
  },
  {
   "cell_type": "code",
   "execution_count": 4,
   "metadata": {},
   "outputs": [
    {
     "data": {
      "text/html": [
       "<div>\n",
       "<style scoped>\n",
       "    .dataframe tbody tr th:only-of-type {\n",
       "        vertical-align: middle;\n",
       "    }\n",
       "\n",
       "    .dataframe tbody tr th {\n",
       "        vertical-align: top;\n",
       "    }\n",
       "\n",
       "    .dataframe thead th {\n",
       "        text-align: right;\n",
       "    }\n",
       "</style>\n",
       "<table border=\"1\" class=\"dataframe\">\n",
       "  <thead>\n",
       "    <tr style=\"text-align: right;\">\n",
       "      <th></th>\n",
       "      <th>RowNumber</th>\n",
       "      <th>CustomerId</th>\n",
       "      <th>Surname</th>\n",
       "      <th>CreditScore</th>\n",
       "      <th>Geography</th>\n",
       "      <th>Gender</th>\n",
       "      <th>Age</th>\n",
       "      <th>Tenure</th>\n",
       "      <th>Balance</th>\n",
       "      <th>NumOfProducts</th>\n",
       "      <th>HasCrCard</th>\n",
       "      <th>IsActiveMember</th>\n",
       "      <th>EstimatedSalary</th>\n",
       "      <th>Exited</th>\n",
       "    </tr>\n",
       "  </thead>\n",
       "  <tbody>\n",
       "    <tr>\n",
       "      <th>0</th>\n",
       "      <td>1</td>\n",
       "      <td>15634602</td>\n",
       "      <td>Hargrave</td>\n",
       "      <td>619</td>\n",
       "      <td>France</td>\n",
       "      <td>Female</td>\n",
       "      <td>42</td>\n",
       "      <td>2</td>\n",
       "      <td>0.00</td>\n",
       "      <td>1</td>\n",
       "      <td>1</td>\n",
       "      <td>1</td>\n",
       "      <td>101348.88</td>\n",
       "      <td>1</td>\n",
       "    </tr>\n",
       "    <tr>\n",
       "      <th>1</th>\n",
       "      <td>2</td>\n",
       "      <td>15647311</td>\n",
       "      <td>Hill</td>\n",
       "      <td>608</td>\n",
       "      <td>Spain</td>\n",
       "      <td>Female</td>\n",
       "      <td>41</td>\n",
       "      <td>1</td>\n",
       "      <td>83807.86</td>\n",
       "      <td>1</td>\n",
       "      <td>0</td>\n",
       "      <td>1</td>\n",
       "      <td>112542.58</td>\n",
       "      <td>0</td>\n",
       "    </tr>\n",
       "    <tr>\n",
       "      <th>2</th>\n",
       "      <td>3</td>\n",
       "      <td>15619304</td>\n",
       "      <td>Onio</td>\n",
       "      <td>502</td>\n",
       "      <td>France</td>\n",
       "      <td>Female</td>\n",
       "      <td>42</td>\n",
       "      <td>8</td>\n",
       "      <td>159660.80</td>\n",
       "      <td>3</td>\n",
       "      <td>1</td>\n",
       "      <td>0</td>\n",
       "      <td>113931.57</td>\n",
       "      <td>1</td>\n",
       "    </tr>\n",
       "    <tr>\n",
       "      <th>3</th>\n",
       "      <td>4</td>\n",
       "      <td>15701354</td>\n",
       "      <td>Boni</td>\n",
       "      <td>699</td>\n",
       "      <td>France</td>\n",
       "      <td>Female</td>\n",
       "      <td>39</td>\n",
       "      <td>1</td>\n",
       "      <td>0.00</td>\n",
       "      <td>2</td>\n",
       "      <td>0</td>\n",
       "      <td>0</td>\n",
       "      <td>93826.63</td>\n",
       "      <td>0</td>\n",
       "    </tr>\n",
       "    <tr>\n",
       "      <th>4</th>\n",
       "      <td>5</td>\n",
       "      <td>15737888</td>\n",
       "      <td>Mitchell</td>\n",
       "      <td>850</td>\n",
       "      <td>Spain</td>\n",
       "      <td>Female</td>\n",
       "      <td>43</td>\n",
       "      <td>2</td>\n",
       "      <td>125510.82</td>\n",
       "      <td>1</td>\n",
       "      <td>1</td>\n",
       "      <td>1</td>\n",
       "      <td>79084.10</td>\n",
       "      <td>0</td>\n",
       "    </tr>\n",
       "  </tbody>\n",
       "</table>\n",
       "</div>"
      ],
      "text/plain": [
       "   RowNumber  CustomerId   Surname  CreditScore Geography  Gender  Age  \\\n",
       "0          1    15634602  Hargrave          619    France  Female   42   \n",
       "1          2    15647311      Hill          608     Spain  Female   41   \n",
       "2          3    15619304      Onio          502    France  Female   42   \n",
       "3          4    15701354      Boni          699    France  Female   39   \n",
       "4          5    15737888  Mitchell          850     Spain  Female   43   \n",
       "\n",
       "   Tenure    Balance  NumOfProducts  HasCrCard  IsActiveMember  \\\n",
       "0       2       0.00              1          1               1   \n",
       "1       1   83807.86              1          0               1   \n",
       "2       8  159660.80              3          1               0   \n",
       "3       1       0.00              2          0               0   \n",
       "4       2  125510.82              1          1               1   \n",
       "\n",
       "   EstimatedSalary  Exited  \n",
       "0        101348.88       1  \n",
       "1        112542.58       0  \n",
       "2        113931.57       1  \n",
       "3         93826.63       0  \n",
       "4         79084.10       0  "
      ]
     },
     "execution_count": 4,
     "metadata": {},
     "output_type": "execute_result"
    }
   ],
   "source": [
    "dataset.head()"
   ]
  },
  {
   "cell_type": "code",
   "execution_count": 5,
   "metadata": {},
   "outputs": [],
   "source": [
    "#dataset.Geography.unique()"
   ]
  },
  {
   "cell_type": "code",
   "execution_count": 6,
   "metadata": {},
   "outputs": [],
   "source": [
    "X = dataset.iloc[:,3:13].values\n",
    "y = dataset.iloc[:, 13].values"
   ]
  },
  {
   "cell_type": "code",
   "execution_count": 7,
   "metadata": {},
   "outputs": [
    {
     "data": {
      "text/plain": [
       "array([[619, 'France', 'Female', ..., 1, 1, 101348.88],\n",
       "       [608, 'Spain', 'Female', ..., 0, 1, 112542.58],\n",
       "       [502, 'France', 'Female', ..., 1, 0, 113931.57],\n",
       "       ...,\n",
       "       [709, 'France', 'Female', ..., 0, 1, 42085.58],\n",
       "       [772, 'Germany', 'Male', ..., 1, 0, 92888.52],\n",
       "       [792, 'France', 'Female', ..., 1, 0, 38190.78]], dtype=object)"
      ]
     },
     "execution_count": 7,
     "metadata": {},
     "output_type": "execute_result"
    }
   ],
   "source": [
    "X"
   ]
  },
  {
   "cell_type": "code",
   "execution_count": 8,
   "metadata": {},
   "outputs": [
    {
     "data": {
      "text/plain": [
       "array([1, 0, 1, ..., 1, 1, 0], dtype=int64)"
      ]
     },
     "execution_count": 8,
     "metadata": {},
     "output_type": "execute_result"
    }
   ],
   "source": [
    "y"
   ]
  },
  {
   "cell_type": "code",
   "execution_count": 9,
   "metadata": {},
   "outputs": [],
   "source": [
    "from sklearn.preprocessing import LabelEncoder, OneHotEncoder"
   ]
  },
  {
   "cell_type": "code",
   "execution_count": 10,
   "metadata": {},
   "outputs": [],
   "source": [
    "labelencoder_X_1 = LabelEncoder()\n",
    "X[:, 1] = labelencoder_X_1.fit_transform(X[:, 1])\n",
    "\n",
    "labelencoder_X_2 = LabelEncoder()\n",
    "X[:, 2] = labelencoder_X_2.fit_transform(X[:, 2])"
   ]
  },
  {
   "cell_type": "code",
   "execution_count": 11,
   "metadata": {},
   "outputs": [
    {
     "name": "stderr",
     "output_type": "stream",
     "text": [
      "D:\\Environments\\OpenCVAndAll\\lib\\site-packages\\sklearn\\preprocessing\\_encoders.py:415: FutureWarning: The handling of integer data will change in version 0.22. Currently, the categories are determined based on the range [0, max(values)], while in the future they will be determined based on the unique values.\n",
      "If you want the future behaviour and silence this warning, you can specify \"categories='auto'\".\n",
      "In case you used a LabelEncoder before this OneHotEncoder to convert the categories to integers, then you can now use the OneHotEncoder directly.\n",
      "  warnings.warn(msg, FutureWarning)\n",
      "D:\\Environments\\OpenCVAndAll\\lib\\site-packages\\sklearn\\preprocessing\\_encoders.py:451: DeprecationWarning: The 'categorical_features' keyword is deprecated in version 0.20 and will be removed in 0.22. You can use the ColumnTransformer instead.\n",
      "  \"use the ColumnTransformer instead.\", DeprecationWarning)\n"
     ]
    }
   ],
   "source": [
    "onehotencoder = OneHotEncoder(categorical_features = [1])\n",
    "X = onehotencoder.fit_transform(X).toarray()\n",
    "X = X[:, 1:]"
   ]
  },
  {
   "cell_type": "code",
   "execution_count": 12,
   "metadata": {},
   "outputs": [
    {
     "data": {
      "text/plain": [
       "array([[0.0000000e+00, 0.0000000e+00, 6.1900000e+02, ..., 1.0000000e+00,\n",
       "        1.0000000e+00, 1.0134888e+05],\n",
       "       [0.0000000e+00, 1.0000000e+00, 6.0800000e+02, ..., 0.0000000e+00,\n",
       "        1.0000000e+00, 1.1254258e+05],\n",
       "       [0.0000000e+00, 0.0000000e+00, 5.0200000e+02, ..., 1.0000000e+00,\n",
       "        0.0000000e+00, 1.1393157e+05],\n",
       "       ...,\n",
       "       [0.0000000e+00, 0.0000000e+00, 7.0900000e+02, ..., 0.0000000e+00,\n",
       "        1.0000000e+00, 4.2085580e+04],\n",
       "       [1.0000000e+00, 0.0000000e+00, 7.7200000e+02, ..., 1.0000000e+00,\n",
       "        0.0000000e+00, 9.2888520e+04],\n",
       "       [0.0000000e+00, 0.0000000e+00, 7.9200000e+02, ..., 1.0000000e+00,\n",
       "        0.0000000e+00, 3.8190780e+04]])"
      ]
     },
     "execution_count": 12,
     "metadata": {},
     "output_type": "execute_result"
    }
   ],
   "source": [
    "X"
   ]
  },
  {
   "cell_type": "code",
   "execution_count": 13,
   "metadata": {},
   "outputs": [],
   "source": [
    "# Splitting the dataset into the Training set and Test set\n",
    "from sklearn.model_selection import train_test_split\n",
    "X_train, X_test, y_train, y_test = train_test_split(X, y, test_size = 0.2)"
   ]
  },
  {
   "cell_type": "code",
   "execution_count": 14,
   "metadata": {},
   "outputs": [],
   "source": [
    "# Importing the Keras libraries and packages\n",
    "import keras\n",
    "from keras.models import Sequential\n",
    "from keras.layers import Dense"
   ]
  },
  {
   "cell_type": "code",
   "execution_count": 15,
   "metadata": {},
   "outputs": [
    {
     "name": "stderr",
     "output_type": "stream",
     "text": [
      "WARNING: Logging before flag parsing goes to stderr.\n",
      "W0814 10:53:29.764300 24476 deprecation_wrapper.py:119] From D:\\Environments\\OpenCVAndAll\\lib\\site-packages\\keras\\backend\\tensorflow_backend.py:74: The name tf.get_default_graph is deprecated. Please use tf.compat.v1.get_default_graph instead.\n",
      "\n"
     ]
    }
   ],
   "source": [
    "#Initializing Neural Network\n",
    "classifier = Sequential()"
   ]
  },
  {
   "cell_type": "code",
   "execution_count": 16,
   "metadata": {},
   "outputs": [
    {
     "name": "stderr",
     "output_type": "stream",
     "text": [
      "D:\\Environments\\OpenCVAndAll\\lib\\site-packages\\ipykernel_launcher.py:2: UserWarning: Update your `Dense` call to the Keras 2 API: `Dense(activation=\"relu\", input_dim=11, units=6, kernel_initializer=\"uniform\")`\n",
      "  \n",
      "W0814 10:53:40.882738 24476 deprecation_wrapper.py:119] From D:\\Environments\\OpenCVAndAll\\lib\\site-packages\\keras\\backend\\tensorflow_backend.py:517: The name tf.placeholder is deprecated. Please use tf.compat.v1.placeholder instead.\n",
      "\n",
      "W0814 10:53:40.918737 24476 deprecation_wrapper.py:119] From D:\\Environments\\OpenCVAndAll\\lib\\site-packages\\keras\\backend\\tensorflow_backend.py:4138: The name tf.random_uniform is deprecated. Please use tf.random.uniform instead.\n",
      "\n",
      "D:\\Environments\\OpenCVAndAll\\lib\\site-packages\\ipykernel_launcher.py:4: UserWarning: Update your `Dense` call to the Keras 2 API: `Dense(activation=\"relu\", units=6, kernel_initializer=\"uniform\")`\n",
      "  after removing the cwd from sys.path.\n",
      "D:\\Environments\\OpenCVAndAll\\lib\\site-packages\\ipykernel_launcher.py:6: UserWarning: Update your `Dense` call to the Keras 2 API: `Dense(activation=\"sigmoid\", units=1, kernel_initializer=\"uniform\")`\n",
      "  \n"
     ]
    }
   ],
   "source": [
    "# Adding the input layer and the first hidden layer\n",
    "classifier.add(Dense(output_dim = 6, init = 'uniform', activation = 'relu', input_dim = 11))\n",
    "# Adding the second hidden layer\n",
    "classifier.add(Dense(output_dim = 6, init = 'uniform', activation = 'relu'))\n",
    "# Adding the output layer\n",
    "classifier.add(Dense(output_dim = 1, init = 'uniform', activation = 'sigmoid'))"
   ]
  },
  {
   "cell_type": "code",
   "execution_count": 17,
   "metadata": {},
   "outputs": [
    {
     "name": "stderr",
     "output_type": "stream",
     "text": [
      "W0814 10:53:53.547525 24476 deprecation_wrapper.py:119] From D:\\Environments\\OpenCVAndAll\\lib\\site-packages\\keras\\optimizers.py:790: The name tf.train.Optimizer is deprecated. Please use tf.compat.v1.train.Optimizer instead.\n",
      "\n",
      "W0814 10:53:53.579521 24476 deprecation_wrapper.py:119] From D:\\Environments\\OpenCVAndAll\\lib\\site-packages\\keras\\backend\\tensorflow_backend.py:3376: The name tf.log is deprecated. Please use tf.math.log instead.\n",
      "\n",
      "W0814 10:53:53.583487 24476 deprecation.py:323] From D:\\Environments\\OpenCVAndAll\\lib\\site-packages\\tensorflow\\python\\ops\\nn_impl.py:180: add_dispatch_support.<locals>.wrapper (from tensorflow.python.ops.array_ops) is deprecated and will be removed in a future version.\n",
      "Instructions for updating:\n",
      "Use tf.where in 2.0, which has the same broadcast rule as np.where\n"
     ]
    }
   ],
   "source": [
    "# Compiling Neural Network\n",
    "classifier.compile(optimizer = 'adam', loss = 'binary_crossentropy', metrics = ['accuracy'])"
   ]
  },
  {
   "cell_type": "code",
   "execution_count": 18,
   "metadata": {},
   "outputs": [
    {
     "name": "stderr",
     "output_type": "stream",
     "text": [
      "D:\\Environments\\OpenCVAndAll\\lib\\site-packages\\ipykernel_launcher.py:2: UserWarning: The `nb_epoch` argument in `fit` has been renamed `epochs`.\n",
      "  \n",
      "W0814 10:54:07.874919 24476 deprecation_wrapper.py:119] From D:\\Environments\\OpenCVAndAll\\lib\\site-packages\\keras\\backend\\tensorflow_backend.py:986: The name tf.assign_add is deprecated. Please use tf.compat.v1.assign_add instead.\n",
      "\n"
     ]
    },
    {
     "name": "stdout",
     "output_type": "stream",
     "text": [
      "Epoch 1/100\n",
      "8000/8000 [==============================] - 1s 124us/step - loss: 0.5733 - acc: 0.7800\n",
      "Epoch 2/100\n",
      "8000/8000 [==============================] - 1s 99us/step - loss: 0.5316 - acc: 0.7937\n",
      "Epoch 3/100\n",
      "8000/8000 [==============================] - 1s 94us/step - loss: 0.5237 - acc: 0.7937\n",
      "Epoch 4/100\n",
      "8000/8000 [==============================] - 1s 106us/step - loss: 0.5164 - acc: 0.7937\n",
      "Epoch 5/100\n",
      "8000/8000 [==============================] - 1s 108us/step - loss: 0.5131 - acc: 0.7937\n",
      "Epoch 6/100\n",
      "8000/8000 [==============================] - 1s 96us/step - loss: 0.5115 - acc: 0.7937\n",
      "Epoch 7/100\n",
      "8000/8000 [==============================] - 1s 95us/step - loss: 0.5069 - acc: 0.7937\n",
      "Epoch 8/100\n",
      "8000/8000 [==============================] - 1s 97us/step - loss: 0.5052 - acc: 0.7937\n",
      "Epoch 9/100\n",
      "8000/8000 [==============================] - 1s 96us/step - loss: 0.5057 - acc: 0.7937\n",
      "Epoch 10/100\n",
      "8000/8000 [==============================] - 1s 95us/step - loss: 0.5035 - acc: 0.7937\n",
      "Epoch 11/100\n",
      "8000/8000 [==============================] - 1s 93us/step - loss: 0.5068 - acc: 0.7937\n",
      "Epoch 12/100\n",
      "8000/8000 [==============================] - 1s 96us/step - loss: 0.5064 - acc: 0.7937\n",
      "Epoch 13/100\n",
      "8000/8000 [==============================] - 1s 97us/step - loss: 0.5054 - acc: 0.7937\n",
      "Epoch 14/100\n",
      "8000/8000 [==============================] - 1s 97us/step - loss: 0.5063 - acc: 0.7937\n",
      "Epoch 15/100\n",
      "8000/8000 [==============================] - 1s 95us/step - loss: 0.5052 - acc: 0.7937\n",
      "Epoch 16/100\n",
      "8000/8000 [==============================] - 1s 96us/step - loss: 0.5039 - acc: 0.7937\n",
      "Epoch 17/100\n",
      "8000/8000 [==============================] - 1s 93us/step - loss: 0.5053 - acc: 0.7937\n",
      "Epoch 18/100\n",
      "8000/8000 [==============================] - 1s 97us/step - loss: 0.5045 - acc: 0.7937\n",
      "Epoch 19/100\n",
      "8000/8000 [==============================] - 1s 101us/step - loss: 0.5042 - acc: 0.7937\n",
      "Epoch 20/100\n",
      "8000/8000 [==============================] - 1s 96us/step - loss: 0.5086 - acc: 0.7937\n",
      "Epoch 21/100\n",
      "8000/8000 [==============================] - 1s 102us/step - loss: 0.5087 - acc: 0.7937\n",
      "Epoch 22/100\n",
      "8000/8000 [==============================] - 1s 85us/step - loss: 0.5087 - acc: 0.7937\n",
      "Epoch 23/100\n",
      "8000/8000 [==============================] - 1s 82us/step - loss: 0.5068 - acc: 0.7937\n",
      "Epoch 24/100\n",
      "8000/8000 [==============================] - 1s 84us/step - loss: 0.5053 - acc: 0.7937\n",
      "Epoch 25/100\n",
      "8000/8000 [==============================] - 1s 81us/step - loss: 0.5040 - acc: 0.7937\n",
      "Epoch 26/100\n",
      "8000/8000 [==============================] - 1s 84us/step - loss: 0.5028 - acc: 0.7937\n",
      "Epoch 27/100\n",
      "8000/8000 [==============================] - 1s 84us/step - loss: 0.5025 - acc: 0.7937\n",
      "Epoch 28/100\n",
      "8000/8000 [==============================] - 1s 83us/step - loss: 0.5386 - acc: 0.7937\n",
      "Epoch 29/100\n",
      "8000/8000 [==============================] - 1s 83us/step - loss: 0.5092 - acc: 0.7937\n",
      "Epoch 30/100\n",
      "8000/8000 [==============================] - 1s 86us/step - loss: 0.5085 - acc: 0.7937\n",
      "Epoch 31/100\n",
      "8000/8000 [==============================] - 1s 85us/step - loss: 0.5085 - acc: 0.7937\n",
      "Epoch 32/100\n",
      "8000/8000 [==============================] - 1s 87us/step - loss: 0.5085 - acc: 0.7937\n",
      "Epoch 33/100\n",
      "8000/8000 [==============================] - 1s 87us/step - loss: 0.5085 - acc: 0.7937\n",
      "Epoch 34/100\n",
      "8000/8000 [==============================] - 1s 86us/step - loss: 0.5085 - acc: 0.7937\n",
      "Epoch 35/100\n",
      "8000/8000 [==============================] - 1s 96us/step - loss: 0.5089 - acc: 0.7937\n",
      "Epoch 36/100\n",
      "8000/8000 [==============================] - 1s 94us/step - loss: 0.5085 - acc: 0.7937\n",
      "Epoch 37/100\n",
      "8000/8000 [==============================] - 1s 87us/step - loss: 0.5086 - acc: 0.7937\n",
      "Epoch 38/100\n",
      "8000/8000 [==============================] - 1s 91us/step - loss: 0.5084 - acc: 0.7937\n",
      "Epoch 39/100\n",
      "8000/8000 [==============================] - 1s 92us/step - loss: 0.5084 - acc: 0.7937\n",
      "Epoch 40/100\n",
      "8000/8000 [==============================] - 1s 91us/step - loss: 0.5080 - acc: 0.7937\n",
      "Epoch 41/100\n",
      "8000/8000 [==============================] - 1s 87us/step - loss: 0.5044 - acc: 0.7937\n",
      "Epoch 42/100\n",
      "8000/8000 [==============================] - 1s 96us/step - loss: 0.5041 - acc: 0.7937\n",
      "Epoch 43/100\n",
      "8000/8000 [==============================] - 1s 95us/step - loss: 0.5027 - acc: 0.7937\n",
      "Epoch 44/100\n",
      "8000/8000 [==============================] - 1s 95us/step - loss: 0.5031 - acc: 0.7937\n",
      "Epoch 45/100\n",
      "8000/8000 [==============================] - 1s 103us/step - loss: 0.5027 - acc: 0.7937\n",
      "Epoch 46/100\n",
      "8000/8000 [==============================] - 1s 86us/step - loss: 0.5026 - acc: 0.7937\n",
      "Epoch 47/100\n",
      "8000/8000 [==============================] - 1s 91us/step - loss: 0.5025 - acc: 0.7937\n",
      "Epoch 48/100\n",
      "8000/8000 [==============================] - 1s 90us/step - loss: 0.5024 - acc: 0.7937\n",
      "Epoch 49/100\n",
      "8000/8000 [==============================] - 1s 90us/step - loss: 0.5023 - acc: 0.7937\n",
      "Epoch 50/100\n",
      "8000/8000 [==============================] - 1s 94us/step - loss: 0.5023 - acc: 0.7937\n",
      "Epoch 51/100\n",
      "8000/8000 [==============================] - 1s 94us/step - loss: 0.5025 - acc: 0.7937\n",
      "Epoch 52/100\n",
      "8000/8000 [==============================] - 1s 94us/step - loss: 0.5027 - acc: 0.7937\n",
      "Epoch 53/100\n",
      "8000/8000 [==============================] - 1s 93us/step - loss: 0.5026 - acc: 0.7937\n",
      "Epoch 54/100\n",
      "8000/8000 [==============================] - 1s 96us/step - loss: 0.5022 - acc: 0.7937\n",
      "Epoch 55/100\n",
      "8000/8000 [==============================] - 1s 96us/step - loss: 0.5028 - acc: 0.7937\n",
      "Epoch 56/100\n",
      "8000/8000 [==============================] - 1s 96us/step - loss: 0.5026 - acc: 0.7937\n",
      "Epoch 57/100\n",
      "8000/8000 [==============================] - 1s 99us/step - loss: 0.5025 - acc: 0.7937\n",
      "Epoch 58/100\n",
      "8000/8000 [==============================] - 1s 99us/step - loss: 0.5025 - acc: 0.7937\n",
      "Epoch 59/100\n",
      "8000/8000 [==============================] - 1s 99us/step - loss: 0.5023 - acc: 0.7937\n",
      "Epoch 60/100\n",
      "8000/8000 [==============================] - 1s 98us/step - loss: 0.5025 - acc: 0.7937\n",
      "Epoch 61/100\n",
      "8000/8000 [==============================] - 1s 99us/step - loss: 0.5023 - acc: 0.7937\n",
      "Epoch 62/100\n",
      "8000/8000 [==============================] - 1s 97us/step - loss: 0.5024 - acc: 0.7937\n",
      "Epoch 63/100\n",
      "8000/8000 [==============================] - 1s 98us/step - loss: 0.5024 - acc: 0.7937\n",
      "Epoch 64/100\n",
      "8000/8000 [==============================] - 1s 99us/step - loss: 0.5024 - acc: 0.7937\n",
      "Epoch 65/100\n",
      "8000/8000 [==============================] - 1s 100us/step - loss: 0.5023 - acc: 0.7937\n",
      "Epoch 66/100\n",
      "8000/8000 [==============================] - 1s 100us/step - loss: 0.5023 - acc: 0.7937\n",
      "Epoch 67/100\n",
      "8000/8000 [==============================] - 1s 97us/step - loss: 0.5023 - acc: 0.7937\n",
      "Epoch 68/100\n",
      "8000/8000 [==============================] - 1s 100us/step - loss: 0.5023 - acc: 0.7937\n",
      "Epoch 69/100\n",
      "8000/8000 [==============================] - 1s 100us/step - loss: 0.5023 - acc: 0.7937\n",
      "Epoch 70/100\n",
      "8000/8000 [==============================] - 1s 101us/step - loss: 0.5024 - acc: 0.7937\n",
      "Epoch 71/100\n",
      "8000/8000 [==============================] - 1s 102us/step - loss: 0.5023 - acc: 0.7937\n",
      "Epoch 72/100\n",
      "8000/8000 [==============================] - 1s 99us/step - loss: 0.5023 - acc: 0.7937\n",
      "Epoch 73/100\n",
      "8000/8000 [==============================] - 1s 99us/step - loss: 0.5022 - acc: 0.7937\n",
      "Epoch 74/100\n",
      "8000/8000 [==============================] - 1s 99us/step - loss: 0.5024 - acc: 0.7937\n",
      "Epoch 75/100\n",
      "8000/8000 [==============================] - 1s 99us/step - loss: 0.5023 - acc: 0.7937\n",
      "Epoch 76/100\n",
      "8000/8000 [==============================] - 1s 109us/step - loss: 0.5022 - acc: 0.7937\n",
      "Epoch 77/100\n",
      "8000/8000 [==============================] - 1s 86us/step - loss: 0.5023 - acc: 0.7937\n",
      "Epoch 78/100\n",
      "8000/8000 [==============================] - 1s 82us/step - loss: 0.5023 - acc: 0.7937\n",
      "Epoch 79/100\n",
      "8000/8000 [==============================] - 1s 86us/step - loss: 0.5023 - acc: 0.7937\n",
      "Epoch 80/100\n",
      "8000/8000 [==============================] - 1s 86us/step - loss: 0.5023 - acc: 0.7937\n",
      "Epoch 81/100\n",
      "8000/8000 [==============================] - 1s 92us/step - loss: 0.5022 - acc: 0.7937\n",
      "Epoch 82/100\n"
     ]
    },
    {
     "name": "stdout",
     "output_type": "stream",
     "text": [
      "8000/8000 [==============================] - 1s 91us/step - loss: 0.5027 - acc: 0.7937\n",
      "Epoch 83/100\n",
      "8000/8000 [==============================] - 1s 86us/step - loss: 0.5021 - acc: 0.7937\n",
      "Epoch 84/100\n",
      "8000/8000 [==============================] - 1s 91us/step - loss: 0.5024 - acc: 0.7937\n",
      "Epoch 85/100\n",
      "8000/8000 [==============================] - 1s 96us/step - loss: 0.5024 - acc: 0.7937\n",
      "Epoch 86/100\n",
      "8000/8000 [==============================] - 1s 92us/step - loss: 0.5022 - acc: 0.7937\n",
      "Epoch 87/100\n",
      "8000/8000 [==============================] - 1s 97us/step - loss: 0.5022 - acc: 0.7937\n",
      "Epoch 88/100\n",
      "8000/8000 [==============================] - 1s 82us/step - loss: 0.5024 - acc: 0.7937\n",
      "Epoch 89/100\n",
      "8000/8000 [==============================] - 1s 85us/step - loss: 0.5022 - acc: 0.7937\n",
      "Epoch 90/100\n",
      "8000/8000 [==============================] - 1s 87us/step - loss: 0.5022 - acc: 0.7937\n",
      "Epoch 91/100\n",
      "8000/8000 [==============================] - 1s 82us/step - loss: 0.5022 - acc: 0.7937\n",
      "Epoch 92/100\n",
      "8000/8000 [==============================] - 1s 87us/step - loss: 0.5021 - acc: 0.7937\n",
      "Epoch 93/100\n",
      "8000/8000 [==============================] - 1s 86us/step - loss: 0.5021 - acc: 0.7937\n",
      "Epoch 94/100\n",
      "8000/8000 [==============================] - 1s 85us/step - loss: 0.5022 - acc: 0.7937\n",
      "Epoch 95/100\n",
      "8000/8000 [==============================] - 1s 93us/step - loss: 0.5021 - acc: 0.7937\n",
      "Epoch 96/100\n",
      "8000/8000 [==============================] - 1s 87us/step - loss: 0.5021 - acc: 0.7937\n",
      "Epoch 97/100\n",
      "8000/8000 [==============================] - 1s 84us/step - loss: 0.5025 - acc: 0.7937\n",
      "Epoch 98/100\n",
      "8000/8000 [==============================] - 1s 86us/step - loss: 0.5020 - acc: 0.7937\n",
      "Epoch 99/100\n",
      "8000/8000 [==============================] - 1s 86us/step - loss: 0.5022 - acc: 0.7937\n",
      "Epoch 100/100\n",
      "8000/8000 [==============================] - 1s 81us/step - loss: 0.5021 - acc: 0.7937\n"
     ]
    },
    {
     "data": {
      "text/plain": [
       "<keras.callbacks.History at 0x181b5bdbda0>"
      ]
     },
     "execution_count": 18,
     "metadata": {},
     "output_type": "execute_result"
    }
   ],
   "source": [
    "# Fitting our model \n",
    "classifier.fit(X_train, y_train, batch_size = 10, nb_epoch = 100)"
   ]
  },
  {
   "cell_type": "code",
   "execution_count": 19,
   "metadata": {},
   "outputs": [],
   "source": [
    "# Predicting the Test set results\n",
    "y_pred = classifier.predict(X_test)"
   ]
  },
  {
   "cell_type": "code",
   "execution_count": 20,
   "metadata": {},
   "outputs": [
    {
     "data": {
      "text/plain": [
       "array([[0.24245358],\n",
       "       [0.24245358],\n",
       "       [0.24245358],\n",
       "       ...,\n",
       "       [0.14900431],\n",
       "       [0.24245358],\n",
       "       [0.24245358]], dtype=float32)"
      ]
     },
     "execution_count": 20,
     "metadata": {},
     "output_type": "execute_result"
    }
   ],
   "source": [
    "y_pred"
   ]
  },
  {
   "cell_type": "code",
   "execution_count": 21,
   "metadata": {},
   "outputs": [],
   "source": [
    "y_pred = (y_pred > 0.5)"
   ]
  },
  {
   "cell_type": "code",
   "execution_count": 22,
   "metadata": {},
   "outputs": [
    {
     "data": {
      "text/plain": [
       "array([[False],\n",
       "       [False],\n",
       "       [False],\n",
       "       ...,\n",
       "       [False],\n",
       "       [False],\n",
       "       [False]])"
      ]
     },
     "execution_count": 22,
     "metadata": {},
     "output_type": "execute_result"
    }
   ],
   "source": [
    "y_pred"
   ]
  },
  {
   "cell_type": "code",
   "execution_count": 23,
   "metadata": {},
   "outputs": [],
   "source": [
    "# Creating the Confusion Matrix\n",
    "from sklearn.metrics import confusion_matrix\n",
    "cm = confusion_matrix(y_test, y_pred)"
   ]
  },
  {
   "cell_type": "code",
   "execution_count": 24,
   "metadata": {},
   "outputs": [
    {
     "data": {
      "text/plain": [
       "array([[1613,    0],\n",
       "       [ 387,    0]], dtype=int64)"
      ]
     },
     "execution_count": 24,
     "metadata": {},
     "output_type": "execute_result"
    }
   ],
   "source": [
    "cm"
   ]
  },
  {
   "cell_type": "code",
   "execution_count": null,
   "metadata": {},
   "outputs": [],
   "source": []
  }
 ],
 "metadata": {
  "kernelspec": {
   "display_name": "Python 3",
   "language": "python",
   "name": "python3"
  },
  "language_info": {
   "codemirror_mode": {
    "name": "ipython",
    "version": 3
   },
   "file_extension": ".py",
   "mimetype": "text/x-python",
   "name": "python",
   "nbconvert_exporter": "python",
   "pygments_lexer": "ipython3",
   "version": "3.6.6"
  }
 },
 "nbformat": 4,
 "nbformat_minor": 2
}
